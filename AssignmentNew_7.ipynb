{
 "cells": [
  {
   "cell_type": "markdown",
   "metadata": {},
   "source": [
    "Given a sequence of n values x1, x2, ..., xn and a window size k>0, the k-th moving average of the given sequence is defined as follows: \n",
    "\n",
    " The moving average sequence has n-k+1 elements as shown below. \n",
    " The moving averages with k=4 of a ten-value sequence (n=10) is shown below \n",
    " i 1 2 3 4 5 6 7 8 9 10 \n",
    " ===== == == == == == == \n",
    "i 1 2 3 4 5 6 7 8 9 10\n",
    "===== == == == == == == == == == ==\n",
    "Input 10 20 30 40 50 60 70 80 90 100\n",
    "y1 25 = (10+20+30+40)/4\n",
    "y2 35 = (20+30+40+50)/4\n",
    "y3 45 = (30+40+50+60)/4\n",
    "y4 55 = (40+50+60+70)/4\n",
    "y5 65 = (50+60+70+80)/4\n",
    "y6 75 = (60+70+80+90)/4\n",
    "y7 85 = (70+80+90+100)/4\n",
    "\n",
    "Thus, the moving average sequence has n-k+1=10-4+1=7 values."
   ]
  },
  {
   "cell_type": "code",
   "execution_count": 21,
   "metadata": {},
   "outputs": [
    {
     "name": "stdout",
     "output_type": "stream",
     "text": [
      "[25.0, 35.0, 45.0, 55.0, 65.0, 75.0, 85.0]\n",
      "[5.0, 4.666666666666667, 5.666666666666667, 6.666666666666667, 9.666666666666666, 28.666666666666668, 49.333333333333336, 72.66666666666667, 84.0, 93.33333333333333, 116.33333333333333]\n"
     ]
    }
   ],
   "source": [
    "def moving_average_sum(sequence, window):\n",
    "    cumulativesum, moving_aves = [0], []\n",
    "    for i, x in enumerate(sequence, 1):   \n",
    "        cumulativesum.append(cumulativesum[i-1] + x)\n",
    "        if ( i >= window ):\n",
    "            moving_ave = (cumulativesum[i] - cumulativesum[i- window])/window\n",
    "            moving_aves.append(moving_ave)\n",
    "    return moving_aves  \n",
    "\n",
    "print(moving_average_sum([10, 20, 30, 40, 50, 60, 70,80,90,100], 4))\n",
    "print(moving_average_sum([3, 5, 7, 2, 8,10,11,65,72,81,99,100,150], 3)) \n",
    "            "
   ]
  }
 ],
 "metadata": {
  "kernelspec": {
   "display_name": "Python 3",
   "language": "python",
   "name": "python3"
  },
  "language_info": {
   "codemirror_mode": {
    "name": "ipython",
    "version": 3
   },
   "file_extension": ".py",
   "mimetype": "text/x-python",
   "name": "python",
   "nbconvert_exporter": "python",
   "pygments_lexer": "ipython3",
   "version": "3.6.5"
  }
 },
 "nbformat": 4,
 "nbformat_minor": 2
}
